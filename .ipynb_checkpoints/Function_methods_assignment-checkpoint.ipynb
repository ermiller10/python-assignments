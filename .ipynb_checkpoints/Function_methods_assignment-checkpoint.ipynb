{
 "cells": [
  {
   "cell_type": "code",
   "execution_count": 3,
   "id": "60aa75fb-6028-4993-b8c9-de2504700c2c",
   "metadata": {},
   "outputs": [],
   "source": [
    "def temp_conversion():\n",
    "    def temp_conversion(c):\n",
    "        k = c + 273.15\n",
    "        return k\n",
    "    celsius = 0\n",
    "    kelvin = temp_conversion(celsisu)\n",
    "    print('%0.2f degrees cesius in %0.2f degrees kelvin' %(celsisu,kelvin))"
   ]
  },
  {
   "cell_type": "code",
   "execution_count": 4,
   "id": "92c7fba1-3944-411f-9ad3-603e87034591",
   "metadata": {},
   "outputs": [],
   "source": [
    "def convert_tempt_to_F():\n",
    "    def convert_tempt_to_F(t, unit):\n",
    "        if unit == ('c'):\n",
    "            f = t*9/5+32\n",
    "            print('converting '+str(t)+'c to '+str(tmpF)+'F.')\n",
    "        elif(unit =='k'):\n",
    "            f = ((t-32)*(5/9))+273.15\n",
    "            print('converting '+str(tc)+'c to '+str(tmpF+'f.'))\n",
    "        else:\n",
    "            print(\"please specify input temperature bt seeting unit='k' or 'c'.\")\n",
    "        return tmpf\n",
    "    \n",
    "    tF = convert_temp_to_F(40, 'c')\n",
    "            \n"
   ]
  },
  {
   "cell_type": "code",
   "execution_count": 5,
   "id": "59bb5554-c775-4351-99e6-b57654dd397d",
   "metadata": {},
   "outputs": [],
   "source": [
    "def calc_height_meters():\n",
    "    def calc_height_meters(feet, inch):\n",
    "        height_m = (feet+inch/12)/3.28\n",
    "        \n",
    "        print('converting '+str(feet)+' feet '+str(inch)+' inches to '+str(height_m)+' meters.')\n",
    "        \n",
    "        return height_m\n",
    "    \n",
    "    h_m = calc_height_meters(5, 8)"
   ]
  },
  {
   "cell_type": "code",
   "execution_count": 6,
   "id": "de367199-a171-4a26-9c49-d998df0c1de8",
   "metadata": {},
   "outputs": [],
   "source": [
    "def calc_height_feet():\n",
    "    def calc_height_feet(meters):\n",
    "        height_decimal_feet = (meters)*3.28\n",
    "        height_feet = (height_decimal_feet)\n",
    "        hegiht_decimal_inches = height_decimal_feet - height_feet\n",
    "        height_inches = round(height_decimal_inches*12)\n",
    "        \n",
    "        print('converting '+str(meters)+' meters to '+str(height_feet)+' feet '+str(height_inches)+' inches.')\n",
    "        \n",
    "        height = {'feet':height_feet, 'inches':height_inches}\n",
    "        return height\n",
    "    \n",
    "    h = calc_height_feet(1.7)\n",
    "    print(h)"
   ]
  },
  {
   "cell_type": "code",
   "execution_count": 12,
   "id": "516a9927-d5c0-4dfa-b116-5e1bc8643716",
   "metadata": {},
   "outputs": [
    {
     "name": "stdout",
     "output_type": "stream",
     "text": [
      "converting 5 feet 8 inches to 1.7276422764227644 meters.\n"
     ]
    },
    {
     "ename": "TypeError",
     "evalue": "calc_height_meters() takes 0 positional arguments but 2 were given",
     "output_type": "error",
     "traceback": [
      "\u001b[1;31m---------------------------------------------------------------------------\u001b[0m",
      "\u001b[1;31mTypeError\u001b[0m                                 Traceback (most recent call last)",
      "Input \u001b[1;32mIn [12]\u001b[0m, in \u001b[0;36m<cell line: 5>\u001b[1;34m()\u001b[0m\n\u001b[0;32m      2\u001b[0m my_height_inches \u001b[38;5;241m=\u001b[39m \u001b[38;5;241m8\u001b[39m\n\u001b[0;32m      4\u001b[0m h_m \u001b[38;5;241m=\u001b[39m calc_height_meters()\n\u001b[1;32m----> 5\u001b[0m h_m \u001b[38;5;241m=\u001b[39m \u001b[43mcalc_height_meters\u001b[49m\u001b[43m(\u001b[49m\u001b[43mmy_height_feet\u001b[49m\u001b[43m,\u001b[49m\u001b[43m \u001b[49m\u001b[43mmy_height_inches\u001b[49m\u001b[43m)\u001b[49m\n\u001b[0;32m      6\u001b[0m \u001b[38;5;28mprint\u001b[39m(h_m)\n",
      "\u001b[1;31mTypeError\u001b[0m: calc_height_meters() takes 0 positional arguments but 2 were given"
     ]
    }
   ],
   "source": [
    "my_height_feet = 5\n",
    "my_height_inches = 8\n",
    "\n",
    "h_m = calc_height_meters()\n",
    "h_m = calc_height_meters(my_height_feet, my_height_inches)\n",
    "print(h_m)"
   ]
  },
  {
   "cell_type": "code",
   "execution_count": null,
   "id": "764690d3-1693-42a1-8e3d-f7abebfd040d",
   "metadata": {},
   "outputs": [],
   "source": []
  }
 ],
 "metadata": {
  "kernelspec": {
   "display_name": "Python 3 (ipykernel)",
   "language": "python",
   "name": "python3"
  },
  "language_info": {
   "codemirror_mode": {
    "name": "ipython",
    "version": 3
   },
   "file_extension": ".py",
   "mimetype": "text/x-python",
   "name": "python",
   "nbconvert_exporter": "python",
   "pygments_lexer": "ipython3",
   "version": "3.9.7"
  }
 },
 "nbformat": 4,
 "nbformat_minor": 5
}
